{
  "nbformat": 4,
  "nbformat_minor": 0,
  "metadata": {
    "colab": {
      "name": "eng_chat.ipynb",
      "provenance": [],
      "collapsed_sections": [],
      "authorship_tag": "ABX9TyNuwcOZAVMD9AaOURl+uhwL",
      "include_colab_link": true
    },
    "kernelspec": {
      "name": "python3",
      "display_name": "Python 3"
    }
  },
  "cells": [
    {
      "cell_type": "markdown",
      "metadata": {
        "id": "view-in-github",
        "colab_type": "text"
      },
      "source": [
        "<a href=\"https://colab.research.google.com/github/Sockcave/GGWP/blob/main/eng_chat_eda1.ipynb\" target=\"_parent\"><img src=\"https://colab.research.google.com/assets/colab-badge.svg\" alt=\"Open In Colab\"/></a>"
      ]
    },
    {
      "cell_type": "markdown",
      "metadata": {
        "id": "6rlyv4G78JbP"
      },
      "source": [
        ""
      ]
    },
    {
      "cell_type": "code",
      "metadata": {
        "id": "pgC_SsCBB_QE",
        "outputId": "65a47e15-a5aa-4a6e-f4ac-a7fc9a33a054",
        "colab": {
          "base_uri": "https://localhost:8080/"
        }
      },
      "source": [
        "pip install boto3"
      ],
      "execution_count": 70,
      "outputs": [
        {
          "output_type": "stream",
          "text": [
            "Requirement already satisfied: boto3 in /usr/local/lib/python3.6/dist-packages (1.16.6)\n",
            "Requirement already satisfied: s3transfer<0.4.0,>=0.3.0 in /usr/local/lib/python3.6/dist-packages (from boto3) (0.3.3)\n",
            "Requirement already satisfied: jmespath<1.0.0,>=0.7.1 in /usr/local/lib/python3.6/dist-packages (from boto3) (0.10.0)\n",
            "Requirement already satisfied: botocore<1.20.0,>=1.19.6 in /usr/local/lib/python3.6/dist-packages (from boto3) (1.19.6)\n",
            "Requirement already satisfied: urllib3<1.26,>=1.25.4; python_version != \"3.4\" in /usr/local/lib/python3.6/dist-packages (from botocore<1.20.0,>=1.19.6->boto3) (1.25.11)\n",
            "Requirement already satisfied: python-dateutil<3.0.0,>=2.1 in /usr/local/lib/python3.6/dist-packages (from botocore<1.20.0,>=1.19.6->boto3) (2.8.1)\n",
            "Requirement already satisfied: six>=1.5 in /usr/local/lib/python3.6/dist-packages (from python-dateutil<3.0.0,>=2.1->botocore<1.20.0,>=1.19.6->boto3) (1.15.0)\n"
          ],
          "name": "stdout"
        }
      ]
    },
    {
      "cell_type": "code",
      "metadata": {
        "id": "1eQuq3-MK_DM"
      },
      "source": [
        "import numpy as np\n",
        "import pandas as pd\n",
        "import matplotlib.pyplot as plt\n",
        "import seaborn as sns"
      ],
      "execution_count": 71,
      "outputs": []
    },
    {
      "cell_type": "code",
      "metadata": {
        "id": "fcsuk4FP1m3A"
      },
      "source": [
        "from collections import Counter"
      ],
      "execution_count": 72,
      "outputs": []
    },
    {
      "cell_type": "code",
      "metadata": {
        "id": "1WKCx3_HmR8j",
        "outputId": "80f5a348-f23d-4d14-9962-4a4d3b713ebc",
        "colab": {
          "base_uri": "https://localhost:8080/"
        }
      },
      "source": [
        "from google.colab import drive\n",
        "drive.mount('drive')"
      ],
      "execution_count": 73,
      "outputs": [
        {
          "output_type": "stream",
          "text": [
            "Drive already mounted at drive; to attempt to forcibly remount, call drive.mount(\"drive\", force_remount=True).\n"
          ],
          "name": "stdout"
        }
      ]
    },
    {
      "cell_type": "code",
      "metadata": {
        "id": "-8F0Xf0aCIRU"
      },
      "source": [
        "#Loading data into colab from AWS\n",
        "import boto3\n",
        "\n",
        "BUCKET_NAME = 'ggwp-data' # replace with your bucket name\n"
      ],
      "execution_count": 74,
      "outputs": []
    },
    {
      "cell_type": "code",
      "metadata": {
        "id": "XJqdBU-cxjVQ",
        "outputId": "6b1bfae5-4ecb-4121-e966-59af7f37c6bc",
        "colab": {
          "base_uri": "https://localhost:8080/",
          "height": 202
        }
      },
      "source": [
        "data = pd.read_csv('eng_chat.csv')\n",
        "data.head()"
      ],
      "execution_count": 75,
      "outputs": [
        {
          "output_type": "execute_result",
          "data": {
            "text/html": [
              "<div>\n",
              "<style scoped>\n",
              "    .dataframe tbody tr th:only-of-type {\n",
              "        vertical-align: middle;\n",
              "    }\n",
              "\n",
              "    .dataframe tbody tr th {\n",
              "        vertical-align: top;\n",
              "    }\n",
              "\n",
              "    .dataframe thead th {\n",
              "        text-align: right;\n",
              "    }\n",
              "</style>\n",
              "<table border=\"1\" class=\"dataframe\">\n",
              "  <thead>\n",
              "    <tr style=\"text-align: right;\">\n",
              "      <th></th>\n",
              "      <th>Unnamed: 0</th>\n",
              "      <th>Unnamed: 1</th>\n",
              "      <th>match</th>\n",
              "      <th>time</th>\n",
              "      <th>slot</th>\n",
              "      <th>text</th>\n",
              "      <th>lang</th>\n",
              "    </tr>\n",
              "  </thead>\n",
              "  <tbody>\n",
              "    <tr>\n",
              "      <th>0</th>\n",
              "      <td>b0</td>\n",
              "      <td>8</td>\n",
              "      <td>0</td>\n",
              "      <td>1808.40822</td>\n",
              "      <td>9</td>\n",
              "      <td>100%</td>\n",
              "      <td>en</td>\n",
              "    </tr>\n",
              "    <tr>\n",
              "      <th>1</th>\n",
              "      <td>b0</td>\n",
              "      <td>9</td>\n",
              "      <td>1</td>\n",
              "      <td>-131.14018</td>\n",
              "      <td>0</td>\n",
              "      <td>twitch.tv/rage_channel</td>\n",
              "      <td>en</td>\n",
              "    </tr>\n",
              "    <tr>\n",
              "      <th>2</th>\n",
              "      <td>b0</td>\n",
              "      <td>10</td>\n",
              "      <td>1</td>\n",
              "      <td>-121.60481</td>\n",
              "      <td>0</td>\n",
              "      <td>https://www.twitch.tv/rage_channel</td>\n",
              "      <td>en</td>\n",
              "    </tr>\n",
              "    <tr>\n",
              "      <th>3</th>\n",
              "      <td>b0</td>\n",
              "      <td>18</td>\n",
              "      <td>1</td>\n",
              "      <td>700.72893</td>\n",
              "      <td>0</td>\n",
              "      <td>https://www.twitch.tv/rage_channel</td>\n",
              "      <td>en</td>\n",
              "    </tr>\n",
              "    <tr>\n",
              "      <th>4</th>\n",
              "      <td>b0</td>\n",
              "      <td>19</td>\n",
              "      <td>1</td>\n",
              "      <td>702.99503</td>\n",
              "      <td>0</td>\n",
              "      <td>https://www.twitch.tv/rage_channel</td>\n",
              "      <td>en</td>\n",
              "    </tr>\n",
              "  </tbody>\n",
              "</table>\n",
              "</div>"
            ],
            "text/plain": [
              "  Unnamed: 0  Unnamed: 1  match  ...  slot                                text lang\n",
              "0         b0           8      0  ...     9                                100%   en\n",
              "1         b0           9      1  ...     0              twitch.tv/rage_channel   en\n",
              "2         b0          10      1  ...     0  https://www.twitch.tv/rage_channel   en\n",
              "3         b0          18      1  ...     0  https://www.twitch.tv/rage_channel   en\n",
              "4         b0          19      1  ...     0  https://www.twitch.tv/rage_channel   en\n",
              "\n",
              "[5 rows x 7 columns]"
            ]
          },
          "metadata": {
            "tags": []
          },
          "execution_count": 75
        }
      ]
    },
    {
      "cell_type": "code",
      "metadata": {
        "id": "ZvHTzbvMxp_0",
        "outputId": "65e48984-d966-4b3f-abe4-0b10db66506c",
        "colab": {
          "base_uri": "https://localhost:8080/"
        }
      },
      "source": [
        "data.shape"
      ],
      "execution_count": 76,
      "outputs": [
        {
          "output_type": "execute_result",
          "data": {
            "text/plain": [
              "(6921688, 7)"
            ]
          },
          "metadata": {
            "tags": []
          },
          "execution_count": 76
        }
      ]
    },
    {
      "cell_type": "code",
      "metadata": {
        "id": "jXaqP_8BxtNY"
      },
      "source": [
        "data = data.iloc[:, 2:6]"
      ],
      "execution_count": 77,
      "outputs": []
    },
    {
      "cell_type": "code",
      "metadata": {
        "id": "v9UmTs74x33v",
        "outputId": "7cb5ad9c-5d73-4abc-f092-bde75f651faa",
        "colab": {
          "base_uri": "https://localhost:8080/",
          "height": 202
        }
      },
      "source": [
        "data.head()"
      ],
      "execution_count": 78,
      "outputs": [
        {
          "output_type": "execute_result",
          "data": {
            "text/html": [
              "<div>\n",
              "<style scoped>\n",
              "    .dataframe tbody tr th:only-of-type {\n",
              "        vertical-align: middle;\n",
              "    }\n",
              "\n",
              "    .dataframe tbody tr th {\n",
              "        vertical-align: top;\n",
              "    }\n",
              "\n",
              "    .dataframe thead th {\n",
              "        text-align: right;\n",
              "    }\n",
              "</style>\n",
              "<table border=\"1\" class=\"dataframe\">\n",
              "  <thead>\n",
              "    <tr style=\"text-align: right;\">\n",
              "      <th></th>\n",
              "      <th>match</th>\n",
              "      <th>time</th>\n",
              "      <th>slot</th>\n",
              "      <th>text</th>\n",
              "    </tr>\n",
              "  </thead>\n",
              "  <tbody>\n",
              "    <tr>\n",
              "      <th>0</th>\n",
              "      <td>0</td>\n",
              "      <td>1808.40822</td>\n",
              "      <td>9</td>\n",
              "      <td>100%</td>\n",
              "    </tr>\n",
              "    <tr>\n",
              "      <th>1</th>\n",
              "      <td>1</td>\n",
              "      <td>-131.14018</td>\n",
              "      <td>0</td>\n",
              "      <td>twitch.tv/rage_channel</td>\n",
              "    </tr>\n",
              "    <tr>\n",
              "      <th>2</th>\n",
              "      <td>1</td>\n",
              "      <td>-121.60481</td>\n",
              "      <td>0</td>\n",
              "      <td>https://www.twitch.tv/rage_channel</td>\n",
              "    </tr>\n",
              "    <tr>\n",
              "      <th>3</th>\n",
              "      <td>1</td>\n",
              "      <td>700.72893</td>\n",
              "      <td>0</td>\n",
              "      <td>https://www.twitch.tv/rage_channel</td>\n",
              "    </tr>\n",
              "    <tr>\n",
              "      <th>4</th>\n",
              "      <td>1</td>\n",
              "      <td>702.99503</td>\n",
              "      <td>0</td>\n",
              "      <td>https://www.twitch.tv/rage_channel</td>\n",
              "    </tr>\n",
              "  </tbody>\n",
              "</table>\n",
              "</div>"
            ],
            "text/plain": [
              "   match        time  slot                                text\n",
              "0      0  1808.40822     9                                100%\n",
              "1      1  -131.14018     0              twitch.tv/rage_channel\n",
              "2      1  -121.60481     0  https://www.twitch.tv/rage_channel\n",
              "3      1   700.72893     0  https://www.twitch.tv/rage_channel\n",
              "4      1   702.99503     0  https://www.twitch.tv/rage_channel"
            ]
          },
          "metadata": {
            "tags": []
          },
          "execution_count": 78
        }
      ]
    },
    {
      "cell_type": "code",
      "metadata": {
        "id": "PuKCcwRzyFKM",
        "outputId": "85da5530-58e9-4c3b-f3b8-1d0a530768aa",
        "colab": {
          "base_uri": "https://localhost:8080/"
        }
      },
      "source": [
        "data.shape"
      ],
      "execution_count": 79,
      "outputs": [
        {
          "output_type": "execute_result",
          "data": {
            "text/plain": [
              "(6921688, 4)"
            ]
          },
          "metadata": {
            "tags": []
          },
          "execution_count": 79
        }
      ]
    },
    {
      "cell_type": "code",
      "metadata": {
        "id": "Bc3PmOu5dLSg",
        "outputId": "02c35e96-842b-4555-ff5e-af571f069768",
        "colab": {
          "base_uri": "https://localhost:8080/"
        }
      },
      "source": [
        "print('There are about ' + str(data.shape[0]) + ' English text rows.')"
      ],
      "execution_count": 80,
      "outputs": [
        {
          "output_type": "stream",
          "text": [
            "There are about 6921688 English text rows.\n"
          ],
          "name": "stdout"
        }
      ]
    },
    {
      "cell_type": "markdown",
      "metadata": {
        "id": "fDc9FE70J5Sk"
      },
      "source": [
        "##**Exploring the Data at First Glance**"
      ]
    },
    {
      "cell_type": "code",
      "metadata": {
        "id": "ygxP0bZuyG3T",
        "outputId": "e8585108-e73e-404b-b8b1-07f6269beb0f",
        "colab": {
          "base_uri": "https://localhost:8080/",
          "height": 415
        }
      },
      "source": [
        "data[data['text'].str.contains('fuck')]"
      ],
      "execution_count": 81,
      "outputs": [
        {
          "output_type": "execute_result",
          "data": {
            "text/html": [
              "<div>\n",
              "<style scoped>\n",
              "    .dataframe tbody tr th:only-of-type {\n",
              "        vertical-align: middle;\n",
              "    }\n",
              "\n",
              "    .dataframe tbody tr th {\n",
              "        vertical-align: top;\n",
              "    }\n",
              "\n",
              "    .dataframe thead th {\n",
              "        text-align: right;\n",
              "    }\n",
              "</style>\n",
              "<table border=\"1\" class=\"dataframe\">\n",
              "  <thead>\n",
              "    <tr style=\"text-align: right;\">\n",
              "      <th></th>\n",
              "      <th>match</th>\n",
              "      <th>time</th>\n",
              "      <th>slot</th>\n",
              "      <th>text</th>\n",
              "    </tr>\n",
              "  </thead>\n",
              "  <tbody>\n",
              "    <tr>\n",
              "      <th>24</th>\n",
              "      <td>6</td>\n",
              "      <td>241.44110</td>\n",
              "      <td>1</td>\n",
              "      <td>fucking reported axe</td>\n",
              "    </tr>\n",
              "    <tr>\n",
              "      <th>71</th>\n",
              "      <td>9</td>\n",
              "      <td>2043.83972</td>\n",
              "      <td>3</td>\n",
              "      <td>fuckING</td>\n",
              "    </tr>\n",
              "    <tr>\n",
              "      <th>98</th>\n",
              "      <td>13</td>\n",
              "      <td>722.92344</td>\n",
              "      <td>0</td>\n",
              "      <td>fuckkk youuuuu</td>\n",
              "    </tr>\n",
              "    <tr>\n",
              "      <th>160</th>\n",
              "      <td>30</td>\n",
              "      <td>-19.06202</td>\n",
              "      <td>1</td>\n",
              "      <td>fuck off lol</td>\n",
              "    </tr>\n",
              "    <tr>\n",
              "      <th>184</th>\n",
              "      <td>32</td>\n",
              "      <td>1369.39897</td>\n",
              "      <td>5</td>\n",
              "      <td>yuou just fuck your ulti as hell</td>\n",
              "    </tr>\n",
              "    <tr>\n",
              "      <th>...</th>\n",
              "      <td>...</td>\n",
              "      <td>...</td>\n",
              "      <td>...</td>\n",
              "      <td>...</td>\n",
              "    </tr>\n",
              "    <tr>\n",
              "      <th>6921426</th>\n",
              "      <td>999952</td>\n",
              "      <td>1121.59276</td>\n",
              "      <td>5</td>\n",
              "      <td>noob as fuck again</td>\n",
              "    </tr>\n",
              "    <tr>\n",
              "      <th>6921447</th>\n",
              "      <td>999958</td>\n",
              "      <td>2155.05888</td>\n",
              "      <td>5</td>\n",
              "      <td>guys i'm just a sky with a fucking cloack</td>\n",
              "    </tr>\n",
              "    <tr>\n",
              "      <th>6921538</th>\n",
              "      <td>999977</td>\n",
              "      <td>1375.63080</td>\n",
              "      <td>8</td>\n",
              "      <td>fuck this system honestly</td>\n",
              "    </tr>\n",
              "    <tr>\n",
              "      <th>6921592</th>\n",
              "      <td>999980</td>\n",
              "      <td>1055.46878</td>\n",
              "      <td>9</td>\n",
              "      <td>fuck up</td>\n",
              "    </tr>\n",
              "    <tr>\n",
              "      <th>6921678</th>\n",
              "      <td>999997</td>\n",
              "      <td>1626.96943</td>\n",
              "      <td>3</td>\n",
              "      <td>Shut the fuck up russian cunt</td>\n",
              "    </tr>\n",
              "  </tbody>\n",
              "</table>\n",
              "<p>143347 rows × 4 columns</p>\n",
              "</div>"
            ],
            "text/plain": [
              "          match        time  slot                                       text\n",
              "24            6   241.44110     1                       fucking reported axe\n",
              "71            9  2043.83972     3                                    fuckING\n",
              "98           13   722.92344     0                             fuckkk youuuuu\n",
              "160          30   -19.06202     1                               fuck off lol\n",
              "184          32  1369.39897     5           yuou just fuck your ulti as hell\n",
              "...         ...         ...   ...                                        ...\n",
              "6921426  999952  1121.59276     5                         noob as fuck again\n",
              "6921447  999958  2155.05888     5  guys i'm just a sky with a fucking cloack\n",
              "6921538  999977  1375.63080     8                  fuck this system honestly\n",
              "6921592  999980  1055.46878     9                                    fuck up\n",
              "6921678  999997  1626.96943     3              Shut the fuck up russian cunt\n",
              "\n",
              "[143347 rows x 4 columns]"
            ]
          },
          "metadata": {
            "tags": []
          },
          "execution_count": 81
        }
      ]
    },
    {
      "cell_type": "code",
      "metadata": {
        "id": "ujaQhvkFlN4g",
        "outputId": "db3c8883-87d3-41f3-9e4d-66153fa5b4c9",
        "colab": {
          "base_uri": "https://localhost:8080/",
          "height": 263
        }
      },
      "source": [
        "#What happenes if an English-speaking player uses words from different languages? Classify as English.\n",
        "data[data['text'].str.contains('ni hao')]"
      ],
      "execution_count": 85,
      "outputs": [
        {
          "output_type": "execute_result",
          "data": {
            "text/html": [
              "<div>\n",
              "<style scoped>\n",
              "    .dataframe tbody tr th:only-of-type {\n",
              "        vertical-align: middle;\n",
              "    }\n",
              "\n",
              "    .dataframe tbody tr th {\n",
              "        vertical-align: top;\n",
              "    }\n",
              "\n",
              "    .dataframe thead th {\n",
              "        text-align: right;\n",
              "    }\n",
              "</style>\n",
              "<table border=\"1\" class=\"dataframe\">\n",
              "  <thead>\n",
              "    <tr style=\"text-align: right;\">\n",
              "      <th></th>\n",
              "      <th>match</th>\n",
              "      <th>time</th>\n",
              "      <th>slot</th>\n",
              "      <th>text</th>\n",
              "    </tr>\n",
              "  </thead>\n",
              "  <tbody>\n",
              "    <tr>\n",
              "      <th>311862</th>\n",
              "      <td>44969</td>\n",
              "      <td>1276.22170</td>\n",
              "      <td>1</td>\n",
              "      <td>ni hao ma this dick nigga</td>\n",
              "    </tr>\n",
              "    <tr>\n",
              "      <th>2314924</th>\n",
              "      <td>333244</td>\n",
              "      <td>-120.43761</td>\n",
              "      <td>2</td>\n",
              "      <td>ni hao dogfights</td>\n",
              "    </tr>\n",
              "    <tr>\n",
              "      <th>2504173</th>\n",
              "      <td>360367</td>\n",
              "      <td>1582.16742</td>\n",
              "      <td>7</td>\n",
              "      <td>hai ni hao whuvqcfhds ghfdwco</td>\n",
              "    </tr>\n",
              "    <tr>\n",
              "      <th>2545990</th>\n",
              "      <td>366269</td>\n",
              "      <td>-49.52125</td>\n",
              "      <td>2</td>\n",
              "      <td>ching chong ni hao</td>\n",
              "    </tr>\n",
              "    <tr>\n",
              "      <th>3049656</th>\n",
              "      <td>439298</td>\n",
              "      <td>1485.37065</td>\n",
              "      <td>6</td>\n",
              "      <td>ni hao motherfuckers</td>\n",
              "    </tr>\n",
              "    <tr>\n",
              "      <th>4464223</th>\n",
              "      <td>645007</td>\n",
              "      <td>-229.17075</td>\n",
              "      <td>2</td>\n",
              "      <td>ge ni hao liu</td>\n",
              "    </tr>\n",
              "    <tr>\n",
              "      <th>6468066</th>\n",
              "      <td>934508</td>\n",
              "      <td>1093.99958</td>\n",
              "      <td>7</td>\n",
              "      <td>ืni hao laoshi</td>\n",
              "    </tr>\n",
              "  </tbody>\n",
              "</table>\n",
              "</div>"
            ],
            "text/plain": [
              "          match        time  slot                           text\n",
              "311862    44969  1276.22170     1      ni hao ma this dick nigga\n",
              "2314924  333244  -120.43761     2               ni hao dogfights\n",
              "2504173  360367  1582.16742     7  hai ni hao whuvqcfhds ghfdwco\n",
              "2545990  366269   -49.52125     2             ching chong ni hao\n",
              "3049656  439298  1485.37065     6           ni hao motherfuckers\n",
              "4464223  645007  -229.17075     2                  ge ni hao liu\n",
              "6468066  934508  1093.99958     7                 ืni hao laoshi"
            ]
          },
          "metadata": {
            "tags": []
          },
          "execution_count": 85
        }
      ]
    },
    {
      "cell_type": "markdown",
      "metadata": {
        "id": "AhFJ4Zx9df9F"
      },
      "source": [
        ""
      ]
    },
    {
      "cell_type": "markdown",
      "metadata": {
        "id": "YDSziF9bdlP_"
      },
      "source": [
        "## **Match**\n",
        "Running value_counts() on the match col will tell us how many messages were sent in a partiuclar match."
      ]
    },
    {
      "cell_type": "code",
      "metadata": {
        "id": "A7tH937Hdi2k",
        "outputId": "b72589d2-1a61-4ff6-e0be-25a56e5df12e",
        "colab": {
          "base_uri": "https://localhost:8080/"
        }
      },
      "source": [
        "number_of_messages_each_match = data['match'].value_counts()\n",
        "number_of_messages_each_match"
      ],
      "execution_count": 86,
      "outputs": [
        {
          "output_type": "execute_result",
          "data": {
            "text/plain": [
              "404637    1066\n",
              "6625      1044\n",
              "546390     871\n",
              "880953     487\n",
              "113221     463\n",
              "          ... \n",
              "560370       1\n",
              "572660       1\n",
              "589052       1\n",
              "17762        1\n",
              "0            1\n",
              "Name: match, Length: 763097, dtype: int64"
            ]
          },
          "metadata": {
            "tags": []
          },
          "execution_count": 86
        }
      ]
    },
    {
      "cell_type": "code",
      "metadata": {
        "id": "coQZYJCXdx2m",
        "outputId": "8f44a336-86c8-4d05-ee49-ca981e6c50a1",
        "colab": {
          "base_uri": "https://localhost:8080/",
          "height": 415
        }
      },
      "source": [
        "#Checking that match 404637 actually does have 1066 rows.\n",
        "data[data['match'] == 404637]"
      ],
      "execution_count": 87,
      "outputs": [
        {
          "output_type": "execute_result",
          "data": {
            "text/html": [
              "<div>\n",
              "<style scoped>\n",
              "    .dataframe tbody tr th:only-of-type {\n",
              "        vertical-align: middle;\n",
              "    }\n",
              "\n",
              "    .dataframe tbody tr th {\n",
              "        vertical-align: top;\n",
              "    }\n",
              "\n",
              "    .dataframe thead th {\n",
              "        text-align: right;\n",
              "    }\n",
              "</style>\n",
              "<table border=\"1\" class=\"dataframe\">\n",
              "  <thead>\n",
              "    <tr style=\"text-align: right;\">\n",
              "      <th></th>\n",
              "      <th>match</th>\n",
              "      <th>time</th>\n",
              "      <th>slot</th>\n",
              "      <th>text</th>\n",
              "    </tr>\n",
              "  </thead>\n",
              "  <tbody>\n",
              "    <tr>\n",
              "      <th>2811245</th>\n",
              "      <td>404637</td>\n",
              "      <td>272.51392</td>\n",
              "      <td>7</td>\n",
              "      <td>sf said ez lol</td>\n",
              "    </tr>\n",
              "    <tr>\n",
              "      <th>2811246</th>\n",
              "      <td>404637</td>\n",
              "      <td>1103.31110</td>\n",
              "      <td>0</td>\n",
              "      <td>Like my dick</td>\n",
              "    </tr>\n",
              "    <tr>\n",
              "      <th>2811247</th>\n",
              "      <td>404637</td>\n",
              "      <td>1191.68950</td>\n",
              "      <td>7</td>\n",
              "      <td>noob jug idiot dog ugly nigga</td>\n",
              "    </tr>\n",
              "    <tr>\n",
              "      <th>2811248</th>\n",
              "      <td>404637</td>\n",
              "      <td>1191.95610</td>\n",
              "      <td>7</td>\n",
              "      <td>noob jug idiot dog ugly nigga</td>\n",
              "    </tr>\n",
              "    <tr>\n",
              "      <th>2811249</th>\n",
              "      <td>404637</td>\n",
              "      <td>1192.22270</td>\n",
              "      <td>7</td>\n",
              "      <td>noob jug idiot dog ugly nigga</td>\n",
              "    </tr>\n",
              "    <tr>\n",
              "      <th>...</th>\n",
              "      <td>...</td>\n",
              "      <td>...</td>\n",
              "      <td>...</td>\n",
              "      <td>...</td>\n",
              "    </tr>\n",
              "    <tr>\n",
              "      <th>2812306</th>\n",
              "      <td>404637</td>\n",
              "      <td>1993.41980</td>\n",
              "      <td>7</td>\n",
              "      <td>noob jug idiot dog ugly nigga</td>\n",
              "    </tr>\n",
              "    <tr>\n",
              "      <th>2812307</th>\n",
              "      <td>404637</td>\n",
              "      <td>1993.68740</td>\n",
              "      <td>7</td>\n",
              "      <td>noob jug idiot dog ugly nigga</td>\n",
              "    </tr>\n",
              "    <tr>\n",
              "      <th>2812308</th>\n",
              "      <td>404637</td>\n",
              "      <td>1993.95500</td>\n",
              "      <td>7</td>\n",
              "      <td>noob jug idiot dog ugly nigga</td>\n",
              "    </tr>\n",
              "    <tr>\n",
              "      <th>2812309</th>\n",
              "      <td>404637</td>\n",
              "      <td>1994.22260</td>\n",
              "      <td>7</td>\n",
              "      <td>noob jug idiot dog ugly nigga</td>\n",
              "    </tr>\n",
              "    <tr>\n",
              "      <th>2812310</th>\n",
              "      <td>404637</td>\n",
              "      <td>1994.89160</td>\n",
              "      <td>1</td>\n",
              "      <td>Sad</td>\n",
              "    </tr>\n",
              "  </tbody>\n",
              "</table>\n",
              "<p>1066 rows × 4 columns</p>\n",
              "</div>"
            ],
            "text/plain": [
              "          match        time  slot                           text\n",
              "2811245  404637   272.51392     7                 sf said ez lol\n",
              "2811246  404637  1103.31110     0                   Like my dick\n",
              "2811247  404637  1191.68950     7  noob jug idiot dog ugly nigga\n",
              "2811248  404637  1191.95610     7  noob jug idiot dog ugly nigga\n",
              "2811249  404637  1192.22270     7  noob jug idiot dog ugly nigga\n",
              "...         ...         ...   ...                            ...\n",
              "2812306  404637  1993.41980     7  noob jug idiot dog ugly nigga\n",
              "2812307  404637  1993.68740     7  noob jug idiot dog ugly nigga\n",
              "2812308  404637  1993.95500     7  noob jug idiot dog ugly nigga\n",
              "2812309  404637  1994.22260     7  noob jug idiot dog ugly nigga\n",
              "2812310  404637  1994.89160     1                            Sad\n",
              "\n",
              "[1066 rows x 4 columns]"
            ]
          },
          "metadata": {
            "tags": []
          },
          "execution_count": 87
        }
      ]
    },
    {
      "cell_type": "code",
      "metadata": {
        "id": "SvRqfUpIi2cU",
        "outputId": "45e93fdb-f99c-4fc7-8f4b-ca22fa87ff60",
        "colab": {
          "base_uri": "https://localhost:8080/"
        }
      },
      "source": [
        "#No Null Values\n",
        "data.isna().sum()"
      ],
      "execution_count": 88,
      "outputs": [
        {
          "output_type": "execute_result",
          "data": {
            "text/plain": [
              "match    0\n",
              "time     0\n",
              "slot     0\n",
              "text     0\n",
              "dtype: int64"
            ]
          },
          "metadata": {
            "tags": []
          },
          "execution_count": 88
        }
      ]
    },
    {
      "cell_type": "markdown",
      "metadata": {
        "id": "3nEK1TW-jbxa"
      },
      "source": [
        "##**Time**\n",
        "Time distribution"
      ]
    },
    {
      "cell_type": "code",
      "metadata": {
        "id": "3pD6eFHyjeT2",
        "outputId": "309a29a8-d7cc-46b2-9a0f-12fcdcaeb48f",
        "colab": {
          "base_uri": "https://localhost:8080/",
          "height": 315
        }
      },
      "source": [
        "plt.hist(data['time'], ec = 'black')\n",
        "plt.xlabel('Time (seconds)')\n",
        "plt.ylabel('Count')\n",
        "plt.title('Distribution of Time', fontsize = 16)"
      ],
      "execution_count": 148,
      "outputs": [
        {
          "output_type": "execute_result",
          "data": {
            "text/plain": [
              "Text(0.5, 1.0, 'Distribution of Time')"
            ]
          },
          "metadata": {
            "tags": []
          },
          "execution_count": 148
        },
        {
          "output_type": "display_data",
          "data": {
            "image/png": "[encoded data removed]",
            "text/plain": [
              "<Figure size 432x288 with 1 Axes>"
            ]
          },
          "metadata": {
            "tags": [],
            "needs_background": "light"
          }
        }
      ]
    },
    {
      "cell_type": "markdown",
      "metadata": {
        "id": "9l47fNR1k2s3"
      },
      "source": [
        "*The amount of text varying over time suggests further exploration in a potential relationship between text content and time interval in game*"
      ]
    },
    {
      "cell_type": "code",
      "metadata": {
        "id": "IsOAz9bLjwm_",
        "outputId": "a3d3a621-2bac-4a97-80fa-e094632ab9a8",
        "colab": {
          "base_uri": "https://localhost:8080/"
        }
      },
      "source": [
        "#Looking at the max length, min length, and average length of the games.\n",
        "print(\"max:\", round(data['time'].max()), \"| min:\", round(data['time'].min()), \"| mean:\", round(data['time'].mean()))"
      ],
      "execution_count": 90,
      "outputs": [
        {
          "output_type": "stream",
          "text": [
            "max: 7898 | min: -1012 | mean: 1462\n"
          ],
          "name": "stdout"
        }
      ]
    },
    {
      "cell_type": "markdown",
      "metadata": {
        "id": "Q4utaT9JlSjQ"
      },
      "source": [
        "*On average, players mostly talk about 1462 seconds/24 minutes into the game.*\n",
        "\n"
      ]
    },
    {
      "cell_type": "markdown",
      "metadata": {
        "id": "SLGY87CI_uS9"
      },
      "source": [
        "*The highly negative time chats range in discussion topics.*"
      ]
    },
    {
      "cell_type": "code",
      "metadata": {
        "id": "cp9e9YZylq9H",
        "outputId": "88b2596d-c07f-4177-80ed-bdfd6eb03736",
        "colab": {
          "base_uri": "https://localhost:8080/",
          "height": 355
        }
      },
      "source": [
        "#The negative time chats are likely pre-game discussions.\n",
        "# The first 10\n",
        "data[data['time'] < 0].sort_values('time').head(10)"
      ],
      "execution_count": 96,
      "outputs": [
        {
          "output_type": "execute_result",
          "data": {
            "text/html": [
              "<div>\n",
              "<style scoped>\n",
              "    .dataframe tbody tr th:only-of-type {\n",
              "        vertical-align: middle;\n",
              "    }\n",
              "\n",
              "    .dataframe tbody tr th {\n",
              "        vertical-align: top;\n",
              "    }\n",
              "\n",
              "    .dataframe thead th {\n",
              "        text-align: right;\n",
              "    }\n",
              "</style>\n",
              "<table border=\"1\" class=\"dataframe\">\n",
              "  <thead>\n",
              "    <tr style=\"text-align: right;\">\n",
              "      <th></th>\n",
              "      <th>match</th>\n",
              "      <th>time</th>\n",
              "      <th>slot</th>\n",
              "      <th>text</th>\n",
              "    </tr>\n",
              "  </thead>\n",
              "  <tbody>\n",
              "    <tr>\n",
              "      <th>2337694</th>\n",
              "      <td>336424</td>\n",
              "      <td>-1011.525424</td>\n",
              "      <td>6</td>\n",
              "      <td>xenophobes</td>\n",
              "    </tr>\n",
              "    <tr>\n",
              "      <th>1573940</th>\n",
              "      <td>226839</td>\n",
              "      <td>-1008.437627</td>\n",
              "      <td>9</td>\n",
              "      <td>rofl</td>\n",
              "    </tr>\n",
              "    <tr>\n",
              "      <th>2337695</th>\n",
              "      <td>336424</td>\n",
              "      <td>-1005.792180</td>\n",
              "      <td>6</td>\n",
              "      <td>whoops</td>\n",
              "    </tr>\n",
              "    <tr>\n",
              "      <th>1573941</th>\n",
              "      <td>226839</td>\n",
              "      <td>-1002.704380</td>\n",
              "      <td>9</td>\n",
              "      <td>seriously valve</td>\n",
              "    </tr>\n",
              "    <tr>\n",
              "      <th>2337696</th>\n",
              "      <td>336424</td>\n",
              "      <td>-993.925690</td>\n",
              "      <td>9</td>\n",
              "      <td>and make it double</td>\n",
              "    </tr>\n",
              "    <tr>\n",
              "      <th>1573942</th>\n",
              "      <td>226839</td>\n",
              "      <td>-992.037877</td>\n",
              "      <td>8</td>\n",
              "      <td>revenge has come</td>\n",
              "    </tr>\n",
              "    <tr>\n",
              "      <th>2337697</th>\n",
              "      <td>336424</td>\n",
              "      <td>-982.925860</td>\n",
              "      <td>6</td>\n",
              "      <td>bag of burgers</td>\n",
              "    </tr>\n",
              "    <tr>\n",
              "      <th>4571912</th>\n",
              "      <td>660552</td>\n",
              "      <td>-972.175637</td>\n",
              "      <td>3</td>\n",
              "      <td>you poor bitch</td>\n",
              "    </tr>\n",
              "    <tr>\n",
              "      <th>3617886</th>\n",
              "      <td>521976</td>\n",
              "      <td>-971.340756</td>\n",
              "      <td>7</td>\n",
              "      <td>ghbdtn</td>\n",
              "    </tr>\n",
              "    <tr>\n",
              "      <th>4571913</th>\n",
              "      <td>660552</td>\n",
              "      <td>-967.242380</td>\n",
              "      <td>3</td>\n",
              "      <td>ICX or death</td>\n",
              "    </tr>\n",
              "  </tbody>\n",
              "</table>\n",
              "</div>"
            ],
            "text/plain": [
              "          match         time  slot                text\n",
              "2337694  336424 -1011.525424     6          xenophobes\n",
              "1573940  226839 -1008.437627     9                rofl\n",
              "2337695  336424 -1005.792180     6              whoops\n",
              "1573941  226839 -1002.704380     9     seriously valve\n",
              "2337696  336424  -993.925690     9  and make it double\n",
              "1573942  226839  -992.037877     8    revenge has come\n",
              "2337697  336424  -982.925860     6      bag of burgers\n",
              "4571912  660552  -972.175637     3      you poor bitch\n",
              "3617886  521976  -971.340756     7             ghbdtn \n",
              "4571913  660552  -967.242380     3        ICX or death"
            ]
          },
          "metadata": {
            "tags": []
          },
          "execution_count": 96
        }
      ]
    },
    {
      "cell_type": "code",
      "metadata": {
        "id": "JSVFafoe_iJG",
        "outputId": "9d4cde64-4f4d-43a6-94fa-944d23c6c0be",
        "colab": {
          "base_uri": "https://localhost:8080/",
          "height": 355
        }
      },
      "source": [
        "# The last 10 or least negative time stamps\n",
        "data[data['time'] < 0].sort_values('time').tail(10)"
      ],
      "execution_count": 97,
      "outputs": [
        {
          "output_type": "execute_result",
          "data": {
            "text/html": [
              "<div>\n",
              "<style scoped>\n",
              "    .dataframe tbody tr th:only-of-type {\n",
              "        vertical-align: middle;\n",
              "    }\n",
              "\n",
              "    .dataframe tbody tr th {\n",
              "        vertical-align: top;\n",
              "    }\n",
              "\n",
              "    .dataframe thead th {\n",
              "        text-align: right;\n",
              "    }\n",
              "</style>\n",
              "<table border=\"1\" class=\"dataframe\">\n",
              "  <thead>\n",
              "    <tr style=\"text-align: right;\">\n",
              "      <th></th>\n",
              "      <th>match</th>\n",
              "      <th>time</th>\n",
              "      <th>slot</th>\n",
              "      <th>text</th>\n",
              "    </tr>\n",
              "  </thead>\n",
              "  <tbody>\n",
              "    <tr>\n",
              "      <th>1068478</th>\n",
              "      <td>154265</td>\n",
              "      <td>-0.03332</td>\n",
              "      <td>3</td>\n",
              "      <td>so yeah</td>\n",
              "    </tr>\n",
              "    <tr>\n",
              "      <th>1068477</th>\n",
              "      <td>154265</td>\n",
              "      <td>-0.03332</td>\n",
              "      <td>1</td>\n",
              "      <td>he cant find the button to reconnect</td>\n",
              "    </tr>\n",
              "    <tr>\n",
              "      <th>1068476</th>\n",
              "      <td>154265</td>\n",
              "      <td>-0.03332</td>\n",
              "      <td>1</td>\n",
              "      <td>has no eyes</td>\n",
              "    </tr>\n",
              "    <tr>\n",
              "      <th>3788236</th>\n",
              "      <td>546824</td>\n",
              "      <td>-0.03332</td>\n",
              "      <td>3</td>\n",
              "      <td>anyway</td>\n",
              "    </tr>\n",
              "    <tr>\n",
              "      <th>6920870</th>\n",
              "      <td>999883</td>\n",
              "      <td>-0.03332</td>\n",
              "      <td>5</td>\n",
              "      <td>thank you very much</td>\n",
              "    </tr>\n",
              "    <tr>\n",
              "      <th>3197044</th>\n",
              "      <td>460507</td>\n",
              "      <td>-0.03332</td>\n",
              "      <td>4</td>\n",
              "      <td>everyone</td>\n",
              "    </tr>\n",
              "    <tr>\n",
              "      <th>2922008</th>\n",
              "      <td>420740</td>\n",
              "      <td>-0.03332</td>\n",
              "      <td>4</td>\n",
              "      <td>Report Innervision please.</td>\n",
              "    </tr>\n",
              "    <tr>\n",
              "      <th>6225520</th>\n",
              "      <td>899040</td>\n",
              "      <td>-0.03330</td>\n",
              "      <td>1</td>\n",
              "      <td>just asking</td>\n",
              "    </tr>\n",
              "    <tr>\n",
              "      <th>3591013</th>\n",
              "      <td>518329</td>\n",
              "      <td>-0.03330</td>\n",
              "      <td>4</td>\n",
              "      <td>but ur cock is not good</td>\n",
              "    </tr>\n",
              "    <tr>\n",
              "      <th>3105644</th>\n",
              "      <td>447349</td>\n",
              "      <td>-0.03330</td>\n",
              "      <td>1</td>\n",
              "      <td>wut</td>\n",
              "    </tr>\n",
              "  </tbody>\n",
              "</table>\n",
              "</div>"
            ],
            "text/plain": [
              "          match     time  slot                                  text\n",
              "1068478  154265 -0.03332     3                              so yeah \n",
              "1068477  154265 -0.03332     1  he cant find the button to reconnect\n",
              "1068476  154265 -0.03332     1                           has no eyes\n",
              "3788236  546824 -0.03332     3                                anyway\n",
              "6920870  999883 -0.03332     5                   thank you very much\n",
              "3197044  460507 -0.03332     4                              everyone\n",
              "2922008  420740 -0.03332     4            Report Innervision please.\n",
              "6225520  899040 -0.03330     1                           just asking\n",
              "3591013  518329 -0.03330     4               but ur cock is not good\n",
              "3105644  447349 -0.03330     1                                   wut"
            ]
          },
          "metadata": {
            "tags": []
          },
          "execution_count": 97
        }
      ]
    },
    {
      "cell_type": "code",
      "metadata": {
        "id": "OylF4GXrAB8F",
        "outputId": "5ddc95b6-f4b3-4a87-fc49-27718d8e2617",
        "colab": {
          "base_uri": "https://localhost:8080/"
        }
      },
      "source": [
        "# The top 10 most common words in between -3 and 0 seconds before the match starts\n",
        "Counter(data[(data['time'] >= -3) & (data['time'] <= 0)]['text']).most_common(10)"
      ],
      "execution_count": 123,
      "outputs": [
        {
          "output_type": "execute_result",
          "data": {
            "text/plain": [
              "[('lol', 281),\n",
              " ('ok', 111),\n",
              " ('XD', 108),\n",
              " ('(', 71),\n",
              " ('wtf', 66),\n",
              " ('LOL', 54),\n",
              " ('rofl', 51),\n",
              " ('yes', 50),\n",
              " ('wp', 49),\n",
              " ('wait', 42)]"
            ]
          },
          "metadata": {
            "tags": []
          },
          "execution_count": 123
        }
      ]
    },
    {
      "cell_type": "code",
      "metadata": {
        "id": "Nwej-zYwALm9",
        "outputId": "6e619c53-cb2a-4ca2-eb5b-e1e9a79d2fb3",
        "colab": {
          "base_uri": "https://localhost:8080/"
        }
      },
      "source": [
        "# The top 10 most common words overall before the match starts. \n",
        "Counter(data[data['time'] < 0]['text']).most_common(10)"
      ],
      "execution_count": 126,
      "outputs": [
        {
          "output_type": "execute_result",
          "data": {
            "text/plain": [
              "[('lol', 11030),\n",
              " ('ok', 4797),\n",
              " ('XD', 3903),\n",
              " ('wait', 2739),\n",
              " ('wtf', 2331),\n",
              " ('rofl', 2286),\n",
              " ('GL HF', 2132),\n",
              " ('pls', 2080),\n",
              " ('yes', 2013),\n",
              " ('go', 1989)]"
            ]
          },
          "metadata": {
            "tags": []
          },
          "execution_count": 126
        }
      ]
    },
    {
      "cell_type": "markdown",
      "metadata": {
        "id": "RciHyNZpB47_"
      },
      "source": [
        "The word 'wait' appears a lot, which makes sense. Players could be telling other players to wait before the game starts during intermission."
      ]
    },
    {
      "cell_type": "markdown",
      "metadata": {
        "id": "MHrKokP6CgBu"
      },
      "source": [
        "***The rows where the match has not begun yet.***"
      ]
    },
    {
      "cell_type": "code",
      "metadata": {
        "id": "q-rVASl2CbPY",
        "outputId": "7862296b-15c9-45a8-d416-0a78a82d88fa",
        "colab": {
          "base_uri": "https://localhost:8080/",
          "height": 415
        }
      },
      "source": [
        "pre_match = data[data['time'] < 0]\n",
        "pre_match"
      ],
      "execution_count": 133,
      "outputs": [
        {
          "output_type": "execute_result",
          "data": {
            "text/html": [
              "<div>\n",
              "<style scoped>\n",
              "    .dataframe tbody tr th:only-of-type {\n",
              "        vertical-align: middle;\n",
              "    }\n",
              "\n",
              "    .dataframe tbody tr th {\n",
              "        vertical-align: top;\n",
              "    }\n",
              "\n",
              "    .dataframe thead th {\n",
              "        text-align: right;\n",
              "    }\n",
              "</style>\n",
              "<table border=\"1\" class=\"dataframe\">\n",
              "  <thead>\n",
              "    <tr style=\"text-align: right;\">\n",
              "      <th></th>\n",
              "      <th>match</th>\n",
              "      <th>time</th>\n",
              "      <th>slot</th>\n",
              "      <th>text</th>\n",
              "    </tr>\n",
              "  </thead>\n",
              "  <tbody>\n",
              "    <tr>\n",
              "      <th>1</th>\n",
              "      <td>1</td>\n",
              "      <td>-131.140180</td>\n",
              "      <td>0</td>\n",
              "      <td>twitch.tv/rage_channel</td>\n",
              "    </tr>\n",
              "    <tr>\n",
              "      <th>2</th>\n",
              "      <td>1</td>\n",
              "      <td>-121.604810</td>\n",
              "      <td>0</td>\n",
              "      <td>https://www.twitch.tv/rage_channel</td>\n",
              "    </tr>\n",
              "    <tr>\n",
              "      <th>43</th>\n",
              "      <td>8</td>\n",
              "      <td>-101.669062</td>\n",
              "      <td>5</td>\n",
              "      <td>nice random ... lol</td>\n",
              "    </tr>\n",
              "    <tr>\n",
              "      <th>102</th>\n",
              "      <td>17</td>\n",
              "      <td>-55.953000</td>\n",
              "      <td>1</td>\n",
              "      <td>remember me last game</td>\n",
              "    </tr>\n",
              "    <tr>\n",
              "      <th>122</th>\n",
              "      <td>20</td>\n",
              "      <td>-59.688150</td>\n",
              "      <td>3</td>\n",
              "      <td>:*</td>\n",
              "    </tr>\n",
              "    <tr>\n",
              "      <th>...</th>\n",
              "      <td>...</td>\n",
              "      <td>...</td>\n",
              "      <td>...</td>\n",
              "      <td>...</td>\n",
              "    </tr>\n",
              "    <tr>\n",
              "      <th>6921612</th>\n",
              "      <td>999985</td>\n",
              "      <td>-33.158570</td>\n",
              "      <td>3</td>\n",
              "      <td>U MID??</td>\n",
              "    </tr>\n",
              "    <tr>\n",
              "      <th>6921613</th>\n",
              "      <td>999985</td>\n",
              "      <td>-25.760380</td>\n",
              "      <td>8</td>\n",
              "      <td>Lychan is a wood hero</td>\n",
              "    </tr>\n",
              "    <tr>\n",
              "      <th>6921614</th>\n",
              "      <td>999985</td>\n",
              "      <td>-17.629030</td>\n",
              "      <td>3</td>\n",
              "      <td>DAZZLE MID???</td>\n",
              "    </tr>\n",
              "    <tr>\n",
              "      <th>6921626</th>\n",
              "      <td>999989</td>\n",
              "      <td>-6.231820</td>\n",
              "      <td>3</td>\n",
              "      <td>all top</td>\n",
              "    </tr>\n",
              "    <tr>\n",
              "      <th>6921672</th>\n",
              "      <td>999997</td>\n",
              "      <td>-37.857430</td>\n",
              "      <td>2</td>\n",
              "      <td>putin spotted :D</td>\n",
              "    </tr>\n",
              "  </tbody>\n",
              "</table>\n",
              "<p>601342 rows × 4 columns</p>\n",
              "</div>"
            ],
            "text/plain": [
              "          match        time  slot                                text\n",
              "1             1 -131.140180     0              twitch.tv/rage_channel\n",
              "2             1 -121.604810     0  https://www.twitch.tv/rage_channel\n",
              "43            8 -101.669062     5                 nice random ... lol\n",
              "102          17  -55.953000     1               remember me last game\n",
              "122          20  -59.688150     3                                  :*\n",
              "...         ...         ...   ...                                 ...\n",
              "6921612  999985  -33.158570     3                             U MID??\n",
              "6921613  999985  -25.760380     8               Lychan is a wood hero\n",
              "6921614  999985  -17.629030     3                       DAZZLE MID???\n",
              "6921626  999989   -6.231820     3                             all top\n",
              "6921672  999997  -37.857430     2                    putin spotted :D\n",
              "\n",
              "[601342 rows x 4 columns]"
            ]
          },
          "metadata": {
            "tags": []
          },
          "execution_count": 133
        }
      ]
    },
    {
      "cell_type": "code",
      "metadata": {
        "id": "HFl3aYkBBraC",
        "outputId": "44fdee7e-b7a2-40d8-ee57-20bb07cc949d",
        "colab": {
          "base_uri": "https://localhost:8080/",
          "height": 415
        }
      },
      "source": [
        "#Looking into the instances where the word 'wait' appears in pre-match chats\n",
        "pre_match[pre_match['text'].str.contains('wait')]"
      ],
      "execution_count": 138,
      "outputs": [
        {
          "output_type": "execute_result",
          "data": {
            "text/html": [
              "<div>\n",
              "<style scoped>\n",
              "    .dataframe tbody tr th:only-of-type {\n",
              "        vertical-align: middle;\n",
              "    }\n",
              "\n",
              "    .dataframe tbody tr th {\n",
              "        vertical-align: top;\n",
              "    }\n",
              "\n",
              "    .dataframe thead th {\n",
              "        text-align: right;\n",
              "    }\n",
              "</style>\n",
              "<table border=\"1\" class=\"dataframe\">\n",
              "  <thead>\n",
              "    <tr style=\"text-align: right;\">\n",
              "      <th></th>\n",
              "      <th>match</th>\n",
              "      <th>time</th>\n",
              "      <th>slot</th>\n",
              "      <th>text</th>\n",
              "    </tr>\n",
              "  </thead>\n",
              "  <tbody>\n",
              "    <tr>\n",
              "      <th>1833</th>\n",
              "      <td>254</td>\n",
              "      <td>-86.54552</td>\n",
              "      <td>8</td>\n",
              "      <td>can u just wait ?</td>\n",
              "    </tr>\n",
              "    <tr>\n",
              "      <th>1873</th>\n",
              "      <td>263</td>\n",
              "      <td>-36.69104</td>\n",
              "      <td>3</td>\n",
              "      <td>wait i pee</td>\n",
              "    </tr>\n",
              "    <tr>\n",
              "      <th>2701</th>\n",
              "      <td>389</td>\n",
              "      <td>-66.91698</td>\n",
              "      <td>0</td>\n",
              "      <td>wait for ward</td>\n",
              "    </tr>\n",
              "    <tr>\n",
              "      <th>5364</th>\n",
              "      <td>851</td>\n",
              "      <td>-70.48278</td>\n",
              "      <td>6</td>\n",
              "      <td>so lets wait motherfucker</td>\n",
              "    </tr>\n",
              "    <tr>\n",
              "      <th>5424</th>\n",
              "      <td>864</td>\n",
              "      <td>-87.11206</td>\n",
              "      <td>3</td>\n",
              "      <td>wait plz</td>\n",
              "    </tr>\n",
              "    <tr>\n",
              "      <th>...</th>\n",
              "      <td>...</td>\n",
              "      <td>...</td>\n",
              "      <td>...</td>\n",
              "      <td>...</td>\n",
              "    </tr>\n",
              "    <tr>\n",
              "      <th>6919872</th>\n",
              "      <td>999763</td>\n",
              "      <td>-23.69422</td>\n",
              "      <td>4</td>\n",
              "      <td>ppls wait</td>\n",
              "    </tr>\n",
              "    <tr>\n",
              "      <th>6920652</th>\n",
              "      <td>999859</td>\n",
              "      <td>-73.14881</td>\n",
              "      <td>1</td>\n",
              "      <td>we cant wait all day</td>\n",
              "    </tr>\n",
              "    <tr>\n",
              "      <th>6921120</th>\n",
              "      <td>999932</td>\n",
              "      <td>-83.44629</td>\n",
              "      <td>6</td>\n",
              "      <td>just wait</td>\n",
              "    </tr>\n",
              "    <tr>\n",
              "      <th>6921126</th>\n",
              "      <td>999932</td>\n",
              "      <td>-77.34777</td>\n",
              "      <td>7</td>\n",
              "      <td>cant wait?</td>\n",
              "    </tr>\n",
              "    <tr>\n",
              "      <th>6921350</th>\n",
              "      <td>999950</td>\n",
              "      <td>-62.01819</td>\n",
              "      <td>8</td>\n",
              "      <td>tech problems in my team pls keepm waiting</td>\n",
              "    </tr>\n",
              "  </tbody>\n",
              "</table>\n",
              "<p>11465 rows × 4 columns</p>\n",
              "</div>"
            ],
            "text/plain": [
              "          match      time  slot                                        text\n",
              "1833        254 -86.54552     8                           can u just wait ?\n",
              "1873        263 -36.69104     3                                  wait i pee\n",
              "2701        389 -66.91698     0                               wait for ward\n",
              "5364        851 -70.48278     6                   so lets wait motherfucker\n",
              "5424        864 -87.11206     3                                    wait plz\n",
              "...         ...       ...   ...                                         ...\n",
              "6919872  999763 -23.69422     4                                   ppls wait\n",
              "6920652  999859 -73.14881     1                        we cant wait all day\n",
              "6921120  999932 -83.44629     6                                   just wait\n",
              "6921126  999932 -77.34777     7                                  cant wait?\n",
              "6921350  999950 -62.01819     8  tech problems in my team pls keepm waiting\n",
              "\n",
              "[11465 rows x 4 columns]"
            ]
          },
          "metadata": {
            "tags": []
          },
          "execution_count": 138
        }
      ]
    },
    {
      "cell_type": "markdown",
      "metadata": {
        "id": "Ss9VyNfyGNoG"
      },
      "source": [
        "\n",
        "## **Slot**\n",
        "Radiant and Dire correspond to the two different teams within one match. The team that spawns at the bottom left half of the map(0-4) is the Radiant team, whereas the team that spawns at the top right half(5-9) of the map is the Dire team."
      ]
    },
    {
      "cell_type": "code",
      "metadata": {
        "id": "JcGLBxhbCz-T",
        "outputId": "3e6bca08-e910-4e7a-f43b-a68a44f79414",
        "colab": {
          "base_uri": "https://localhost:8080/",
          "height": 297
        }
      },
      "source": [
        "plt.hist(data['slot'], ec = 'black') # ec = edgecolor\n",
        "plt.xlabel('Slot')\n",
        "plt.ylabel('Count')\n",
        "plt.title('Counts of Different Slots', fontsize = 16);"
      ],
      "execution_count": 147,
      "outputs": [
        {
          "output_type": "display_data",
          "data": {
            "image/png": "[encoded data removed]",
            "text/plain": [
              "<Figure size 432x288 with 1 Axes>"
            ]
          },
          "metadata": {
            "tags": [],
            "needs_background": "light"
          }
        }
      ]
    },
    {
      "cell_type": "code",
      "metadata": {
        "id": "LBZQNitdGwkL",
        "outputId": "cb37662d-c240-406a-eda5-b87cd6c4820b",
        "colab": {
          "base_uri": "https://localhost:8080/"
        }
      },
      "source": [
        "# Slot number 0-4: Radiant\n",
        "print(\"Number of Radiant messages:\", sum(data[data['slot'] < 5]['slot'].value_counts()))\n",
        "data[data['slot'] < 5]['slot'].value_counts()"
      ],
      "execution_count": 149,
      "outputs": [
        {
          "output_type": "stream",
          "text": [
            "Number of Radiant messages: 3428722\n"
          ],
          "name": "stdout"
        },
        {
          "output_type": "execute_result",
          "data": {
            "text/plain": [
              "0    708305\n",
              "3    683836\n",
              "2    680441\n",
              "4    680344\n",
              "1    675796\n",
              "Name: slot, dtype: int64"
            ]
          },
          "metadata": {
            "tags": []
          },
          "execution_count": 149
        }
      ]
    },
    {
      "cell_type": "code",
      "metadata": {
        "id": "ohPdTs5rIi1P",
        "outputId": "2dc74ac8-fb6c-41f4-8b38-b291e1d06ec1",
        "colab": {
          "base_uri": "https://localhost:8080/"
        }
      },
      "source": [
        "# Slot number 5-9: Dire\n",
        "print(\"Number of Dire messages:\", sum(data[data['slot'] >= 5]['slot'].value_counts()))\n",
        "data[data['slot'] >= 5]['slot'].value_counts()"
      ],
      "execution_count": 150,
      "outputs": [
        {
          "output_type": "stream",
          "text": [
            "Number of Dire messages: 3492966\n"
          ],
          "name": "stdout"
        },
        {
          "output_type": "execute_result",
          "data": {
            "text/plain": [
              "5    725076\n",
              "9    695323\n",
              "8    693627\n",
              "7    693026\n",
              "6    685914\n",
              "Name: slot, dtype: int64"
            ]
          },
          "metadata": {
            "tags": []
          },
          "execution_count": 150
        }
      ]
    },
    {
      "cell_type": "markdown",
      "metadata": {
        "id": "kbYjq-A8ItwM"
      },
      "source": [
        "**There is virtually no difference in the amount of messages the two teams send, although Radiant teams tend to have a higher winrate** (https://www.reddit.com/r/DotA2/comments/aww7ob/radiant_has_an_unacceptable_win_rate_advantage_in/).\n",
        "\n"
      ]
    },
    {
      "cell_type": "code",
      "metadata": {
        "id": "kvk1G1NtIphP",
        "outputId": "8160157b-ddb3-48bb-a1e4-5d82f43b5515",
        "colab": {
          "base_uri": "https://localhost:8080/"
        }
      },
      "source": [
        "data.groupby(['match', 'slot']).size().sort_values(ascending = False).head()\n",
        "#The most amount of messages sent by one person in one match is 1056."
      ],
      "execution_count": 156,
      "outputs": [
        {
          "output_type": "execute_result",
          "data": {
            "text/plain": [
              "match   slot\n",
              "404637  7       1056\n",
              "546390  6        854\n",
              "6625    5        636\n",
              "        1        402\n",
              "503160  3        332\n",
              "dtype: int64"
            ]
          },
          "metadata": {
            "tags": []
          },
          "execution_count": 156
        }
      ]
    },
    {
      "cell_type": "code",
      "metadata": {
        "id": "NFvGKmnyI4BN",
        "outputId": "1516b53f-7d0b-4588-93bb-3acb38dfaf39",
        "colab": {
          "base_uri": "https://localhost:8080/"
        }
      },
      "source": [
        "print(\"The average amount of messages one player sends in one match is {}.\"\n",
        "      .format(round(data.groupby(['match', 'slot']).size().sort_values(ascending=False).mean())))"
      ],
      "execution_count": 157,
      "outputs": [
        {
          "output_type": "stream",
          "text": [
            "The average amount of messages one player sends in one match is 3.\n"
          ],
          "name": "stdout"
        }
      ]
    },
    {
      "cell_type": "markdown",
      "metadata": {
        "id": "pGO6PCiKKFJo"
      },
      "source": [
        "##**Text**"
      ]
    },
    {
      "cell_type": "code",
      "metadata": {
        "id": "gTwWouvOKHH2",
        "outputId": "5d5676fc-fccc-4a67-cfe3-5c612bedceb5",
        "colab": {
          "base_uri": "https://localhost:8080/"
        }
      },
      "source": [
        "#Most common chat messages\n",
        "data['text'].str.lower().value_counts().head()"
      ],
      "execution_count": 159,
      "outputs": [
        {
          "output_type": "execute_result",
          "data": {
            "text/plain": [
              "lol      310196\n",
              "xd       121587\n",
              "gg wp    117246\n",
              "ggwp      96570\n",
              "wp        82854\n",
              "Name: text, dtype: int64"
            ]
          },
          "metadata": {
            "tags": []
          },
          "execution_count": 159
        }
      ]
    },
    {
      "cell_type": "code",
      "metadata": {
        "id": "CMTitiQTKPz1"
      },
      "source": [
        "#Most common words. Convert to lowercase so 'LOL' is equal to 'lol'.\n",
        "lcw = Counter(data['text'].str.lower())"
      ],
      "execution_count": 166,
      "outputs": []
    },
    {
      "cell_type": "code",
      "metadata": {
        "id": "R3gYXnL0KaOh",
        "outputId": "e73ee424-c4e6-4c1e-dbd6-9b354ef02e7c",
        "colab": {
          "base_uri": "https://localhost:8080/"
        }
      },
      "source": [
        "#Top 15 most common words\n",
        "lcw.most_common(15)"
      ],
      "execution_count": 167,
      "outputs": [
        {
          "output_type": "execute_result",
          "data": {
            "text/plain": [
              "[('lol', 310196),\n",
              " ('xd', 121587),\n",
              " ('gg wp', 117246),\n",
              " ('ggwp', 96570),\n",
              " ('wp', 82854),\n",
              " ('end', 65353),\n",
              " ('wtf', 56980),\n",
              " ('ok', 38461),\n",
              " ('rofl', 36110),\n",
              " ('ff', 27071),\n",
              " ('pls', 25721),\n",
              " ('(', 24893),\n",
              " ('lmao', 24095),\n",
              " ('???', 21910),\n",
              " ('nice', 20802)]"
            ]
          },
          "metadata": {
            "tags": []
          },
          "execution_count": 167
        }
      ]
    },
    {
      "cell_type": "code",
      "metadata": {
        "id": "1hApAQ0iK0Qf"
      },
      "source": [
        ""
      ],
      "execution_count": null,
      "outputs": []
    }
  ]
}