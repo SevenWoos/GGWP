{
  "nbformat": 4,
  "nbformat_minor": 0,
  "metadata": {
    "colab": {
      "name": "Links_removal.ipynb",
      "provenance": [],
      "collapsed_sections": [],
      "authorship_tag": "ABX9TyNEFsEf6gRL44hFntoWyZxU",
      "include_colab_link": true
    },
    "kernelspec": {
      "name": "python3",
      "display_name": "Python 3"
    }
  },
  "cells": [
    {
      "cell_type": "markdown",
      "metadata": {
        "id": "view-in-github",
        "colab_type": "text"
      },
      "source": [
        "<a href=\"https://colab.research.google.com/github/Sockcave/GGWP/blob/main/Links_removal.ipynb\" target=\"_parent\"><img src=\"https://colab.research.google.com/assets/colab-badge.svg\" alt=\"Open In Colab\"/></a>"
      ]
    },
    {
      "cell_type": "code",
      "metadata": {
        "colab": {
          "base_uri": "https://localhost:8080/"
        },
        "id": "dwkA7IM9fWbh",
        "outputId": "652d2ed8-373d-496f-e4d6-57f6bee89b02"
      },
      "source": [
        "pip install boto3"
      ],
      "execution_count": 1,
      "outputs": [
        {
          "output_type": "stream",
          "text": [
            "Collecting boto3\n",
            "\u001b[?25l  Downloading https://files.pythonhosted.org/packages/60/31/c531a0cacd4f080e2a8b359248c2f52f4396fd5ae91a4eb7ded363c4f788/boto3-1.16.21-py2.py3-none-any.whl (129kB)\n",
            "\u001b[K     |████████████████████████████████| 133kB 7.1MB/s \n",
            "\u001b[?25hCollecting botocore<1.20.0,>=1.19.21\n",
            "\u001b[?25l  Downloading https://files.pythonhosted.org/packages/c0/e7/bbf72c24d960735cf32503651941aee27daabb9c001dc06c0b8acb4db576/botocore-1.19.21-py2.py3-none-any.whl (6.8MB)\n",
            "\u001b[K     |████████████████████████████████| 6.8MB 17.9MB/s \n",
            "\u001b[?25hCollecting jmespath<1.0.0,>=0.7.1\n",
            "  Downloading https://files.pythonhosted.org/packages/07/cb/5f001272b6faeb23c1c9e0acc04d48eaaf5c862c17709d20e3469c6e0139/jmespath-0.10.0-py2.py3-none-any.whl\n",
            "Collecting s3transfer<0.4.0,>=0.3.0\n",
            "\u001b[?25l  Downloading https://files.pythonhosted.org/packages/69/79/e6afb3d8b0b4e96cefbdc690f741d7dd24547ff1f94240c997a26fa908d3/s3transfer-0.3.3-py2.py3-none-any.whl (69kB)\n",
            "\u001b[K     |████████████████████████████████| 71kB 7.1MB/s \n",
            "\u001b[?25hCollecting urllib3<1.27,>=1.25.4; python_version != \"3.4\"\n",
            "\u001b[?25l  Downloading https://files.pythonhosted.org/packages/f5/71/45d36a8df68f3ebb098d6861b2c017f3d094538c0fb98fa61d4dc43e69b9/urllib3-1.26.2-py2.py3-none-any.whl (136kB)\n",
            "\u001b[K     |████████████████████████████████| 143kB 43.4MB/s \n",
            "\u001b[?25hRequirement already satisfied: python-dateutil<3.0.0,>=2.1 in /usr/local/lib/python3.6/dist-packages (from botocore<1.20.0,>=1.19.21->boto3) (2.8.1)\n",
            "Requirement already satisfied: six>=1.5 in /usr/local/lib/python3.6/dist-packages (from python-dateutil<3.0.0,>=2.1->botocore<1.20.0,>=1.19.21->boto3) (1.15.0)\n",
            "\u001b[31mERROR: requests 2.23.0 has requirement urllib3!=1.25.0,!=1.25.1,<1.26,>=1.21.1, but you'll have urllib3 1.26.2 which is incompatible.\u001b[0m\n",
            "\u001b[31mERROR: datascience 0.10.6 has requirement folium==0.2.1, but you'll have folium 0.8.3 which is incompatible.\u001b[0m\n",
            "Installing collected packages: urllib3, jmespath, botocore, s3transfer, boto3\n",
            "  Found existing installation: urllib3 1.24.3\n",
            "    Uninstalling urllib3-1.24.3:\n",
            "      Successfully uninstalled urllib3-1.24.3\n",
            "Successfully installed boto3-1.16.21 botocore-1.19.21 jmespath-0.10.0 s3transfer-0.3.3 urllib3-1.26.2\n"
          ],
          "name": "stdout"
        }
      ]
    },
    {
      "cell_type": "code",
      "metadata": {
        "id": "B14BxrHvfYjV"
      },
      "source": [
        "import numpy as np\n",
        "import pandas as pd\n",
        "import matplotlib.pyplot as plt\n",
        "import seaborn as sns\n",
        "from collections import Counter\n",
        "from textblob import TextBlob\n",
        "import re"
      ],
      "execution_count": 2,
      "outputs": []
    },
    {
      "cell_type": "code",
      "metadata": {
        "colab": {
          "base_uri": "https://localhost:8080/",
          "height": 200
        },
        "id": "zfghOg8egvis",
        "outputId": "12bfe645-4fd8-4894-c98c-2d32236bb5ec"
      },
      "source": [
        "data = pd.read_csv('eng_chat_features_one.csv')\n",
        "data = data.iloc[:, 2:8]\n",
        "data.head()"
      ],
      "execution_count": 31,
      "outputs": [
        {
          "output_type": "execute_result",
          "data": {
            "text/html": [
              "<div>\n",
              "<style scoped>\n",
              "    .dataframe tbody tr th:only-of-type {\n",
              "        vertical-align: middle;\n",
              "    }\n",
              "\n",
              "    .dataframe tbody tr th {\n",
              "        vertical-align: top;\n",
              "    }\n",
              "\n",
              "    .dataframe thead th {\n",
              "        text-align: right;\n",
              "    }\n",
              "</style>\n",
              "<table border=\"1\" class=\"dataframe\">\n",
              "  <thead>\n",
              "    <tr style=\"text-align: right;\">\n",
              "      <th></th>\n",
              "      <th>time</th>\n",
              "      <th>slot</th>\n",
              "      <th>text</th>\n",
              "      <th>text length</th>\n",
              "      <th>polarity</th>\n",
              "      <th>subjectivity</th>\n",
              "    </tr>\n",
              "  </thead>\n",
              "  <tbody>\n",
              "    <tr>\n",
              "      <th>0</th>\n",
              "      <td>1808.40822</td>\n",
              "      <td>9</td>\n",
              "      <td>100%</td>\n",
              "      <td>4</td>\n",
              "      <td>0.0</td>\n",
              "      <td>0.0</td>\n",
              "    </tr>\n",
              "    <tr>\n",
              "      <th>1</th>\n",
              "      <td>-131.14018</td>\n",
              "      <td>0</td>\n",
              "      <td>twitch.tv/rage_channel</td>\n",
              "      <td>22</td>\n",
              "      <td>0.0</td>\n",
              "      <td>0.0</td>\n",
              "    </tr>\n",
              "    <tr>\n",
              "      <th>2</th>\n",
              "      <td>-121.60481</td>\n",
              "      <td>0</td>\n",
              "      <td>https://www.twitch.tv/rage_channel</td>\n",
              "      <td>34</td>\n",
              "      <td>0.0</td>\n",
              "      <td>0.0</td>\n",
              "    </tr>\n",
              "    <tr>\n",
              "      <th>3</th>\n",
              "      <td>700.72893</td>\n",
              "      <td>0</td>\n",
              "      <td>https://www.twitch.tv/rage_channel</td>\n",
              "      <td>34</td>\n",
              "      <td>0.0</td>\n",
              "      <td>0.0</td>\n",
              "    </tr>\n",
              "    <tr>\n",
              "      <th>4</th>\n",
              "      <td>702.99503</td>\n",
              "      <td>0</td>\n",
              "      <td>https://www.twitch.tv/rage_channel</td>\n",
              "      <td>34</td>\n",
              "      <td>0.0</td>\n",
              "      <td>0.0</td>\n",
              "    </tr>\n",
              "  </tbody>\n",
              "</table>\n",
              "</div>"
            ],
            "text/plain": [
              "         time  slot  ... polarity  subjectivity\n",
              "0  1808.40822     9  ...      0.0           0.0\n",
              "1  -131.14018     0  ...      0.0           0.0\n",
              "2  -121.60481     0  ...      0.0           0.0\n",
              "3   700.72893     0  ...      0.0           0.0\n",
              "4   702.99503     0  ...      0.0           0.0\n",
              "\n",
              "[5 rows x 6 columns]"
            ]
          },
          "metadata": {
            "tags": []
          },
          "execution_count": 31
        }
      ]
    },
    {
      "cell_type": "markdown",
      "metadata": {
        "id": "6U5oewqYhD-a"
      },
      "source": [
        "##**Dropping links, urls, websites**##\n",
        "Using reg-ex to extract those messages with links, urls, websites."
      ]
    },
    {
      "cell_type": "code",
      "metadata": {
        "id": "I5NZ3Nxzg6xn"
      },
      "source": [
        "# dropping the links and urls with reg-ex\n",
        "link_reg = r'(https://)|(.tv/)|(^www.[\\w]+\\.[\\w]{3,3}$)'"
      ],
      "execution_count": 32,
      "outputs": []
    },
    {
      "cell_type": "code",
      "metadata": {
        "colab": {
          "base_uri": "https://localhost:8080/"
        },
        "id": "VYsXYSyihL9B",
        "outputId": "6bb65541-b469-484b-e762-2f282da5c96d"
      },
      "source": [
        "#Some test cases I wrote up.\n",
        "if re.search(link_reg, 'https://www.twitch.tv/rage_channel'):\n",
        "  print('Match 1 found')\n",
        "if re.search(link_reg, 'twitch.tv/rage_channel'):\n",
        "  print('Match 2 found')\n",
        "if re.search(link_reg, 'www.youtube.com'):\n",
        "  print('Match 3 found')  \n",
        "if re.search(link_reg, '.gov'):\n",
        "  print('Match 4 found')\n",
        "if re.search(link_reg, 'www.who.int'):\n",
        "  print('Match 5 found')\n",
        "if re.search(link_reg, 'hi mom'):\n",
        "  print('Match 6 found')\n",
        "if re.search(link_reg, 'gg no re.'):\n",
        "  print('Match 7 found')\n",
        "if re.search(link_reg, 'come at me bro.'):\n",
        "  print('Match 8 found')\n",
        "if re.search(link_reg, 'come at me bro!'):\n",
        "  print('Match 9 found')     "
      ],
      "execution_count": 33,
      "outputs": [
        {
          "output_type": "stream",
          "text": [
            "Match 1 found\n",
            "Match 2 found\n",
            "Match 3 found\n",
            "Match 5 found\n"
          ],
          "name": "stdout"
        }
      ]
    },
    {
      "cell_type": "code",
      "metadata": {
        "id": "0BhfSYhehVxR"
      },
      "source": [
        "df2 = data.copy(deep = True) # making a copy to use"
      ],
      "execution_count": 34,
      "outputs": []
    },
    {
      "cell_type": "code",
      "metadata": {
        "colab": {
          "base_uri": "https://localhost:8080/",
          "height": 447
        },
        "id": "cztbtWgKhODW",
        "outputId": "76473b1d-83ee-45a1-c579-ea599668c500"
      },
      "source": [
        "#Making sure we only have links, urls, and websites in our matched rows\n",
        "site_data = df2[df2['text'].str.contains(pattern)== True] \n",
        "site_data"
      ],
      "execution_count": 35,
      "outputs": [
        {
          "output_type": "stream",
          "text": [
            "/usr/local/lib/python3.6/dist-packages/pandas/core/strings.py:2001: UserWarning: This pattern has match groups. To actually get the groups, use str.extract.\n",
            "  return func(self, *args, **kwargs)\n"
          ],
          "name": "stderr"
        },
        {
          "output_type": "execute_result",
          "data": {
            "text/html": [
              "<div>\n",
              "<style scoped>\n",
              "    .dataframe tbody tr th:only-of-type {\n",
              "        vertical-align: middle;\n",
              "    }\n",
              "\n",
              "    .dataframe tbody tr th {\n",
              "        vertical-align: top;\n",
              "    }\n",
              "\n",
              "    .dataframe thead th {\n",
              "        text-align: right;\n",
              "    }\n",
              "</style>\n",
              "<table border=\"1\" class=\"dataframe\">\n",
              "  <thead>\n",
              "    <tr style=\"text-align: right;\">\n",
              "      <th></th>\n",
              "      <th>time</th>\n",
              "      <th>slot</th>\n",
              "      <th>text</th>\n",
              "      <th>text length</th>\n",
              "      <th>polarity</th>\n",
              "      <th>subjectivity</th>\n",
              "    </tr>\n",
              "  </thead>\n",
              "  <tbody>\n",
              "    <tr>\n",
              "      <th>1</th>\n",
              "      <td>-131.14018</td>\n",
              "      <td>0</td>\n",
              "      <td>twitch.tv/rage_channel</td>\n",
              "      <td>22</td>\n",
              "      <td>0.0</td>\n",
              "      <td>0.0</td>\n",
              "    </tr>\n",
              "    <tr>\n",
              "      <th>2</th>\n",
              "      <td>-121.60481</td>\n",
              "      <td>0</td>\n",
              "      <td>https://www.twitch.tv/rage_channel</td>\n",
              "      <td>34</td>\n",
              "      <td>0.0</td>\n",
              "      <td>0.0</td>\n",
              "    </tr>\n",
              "    <tr>\n",
              "      <th>3</th>\n",
              "      <td>700.72893</td>\n",
              "      <td>0</td>\n",
              "      <td>https://www.twitch.tv/rage_channel</td>\n",
              "      <td>34</td>\n",
              "      <td>0.0</td>\n",
              "      <td>0.0</td>\n",
              "    </tr>\n",
              "    <tr>\n",
              "      <th>4</th>\n",
              "      <td>702.99503</td>\n",
              "      <td>0</td>\n",
              "      <td>https://www.twitch.tv/rage_channel</td>\n",
              "      <td>34</td>\n",
              "      <td>0.0</td>\n",
              "      <td>0.0</td>\n",
              "    </tr>\n",
              "    <tr>\n",
              "      <th>5</th>\n",
              "      <td>703.59488</td>\n",
              "      <td>0</td>\n",
              "      <td>https://www.twitch.tv/rage_channel</td>\n",
              "      <td>34</td>\n",
              "      <td>0.0</td>\n",
              "      <td>0.0</td>\n",
              "    </tr>\n",
              "    <tr>\n",
              "      <th>...</th>\n",
              "      <td>...</td>\n",
              "      <td>...</td>\n",
              "      <td>...</td>\n",
              "      <td>...</td>\n",
              "      <td>...</td>\n",
              "      <td>...</td>\n",
              "    </tr>\n",
              "    <tr>\n",
              "      <th>6909221</th>\n",
              "      <td>584.09074</td>\n",
              "      <td>2</td>\n",
              "      <td>https://www.twitch.tv/doterlover</td>\n",
              "      <td>32</td>\n",
              "      <td>0.0</td>\n",
              "      <td>0.0</td>\n",
              "    </tr>\n",
              "    <tr>\n",
              "      <th>6911305</th>\n",
              "      <td>934.63850</td>\n",
              "      <td>6</td>\n",
              "      <td>https://howdoiplay.com/?Shadow+Fiend</td>\n",
              "      <td>36</td>\n",
              "      <td>0.0</td>\n",
              "      <td>0.0</td>\n",
              "    </tr>\n",
              "    <tr>\n",
              "      <th>6911306</th>\n",
              "      <td>1113.06160</td>\n",
              "      <td>6</td>\n",
              "      <td>https://howdoiplay.com/?Earth+Spirit</td>\n",
              "      <td>36</td>\n",
              "      <td>0.0</td>\n",
              "      <td>0.0</td>\n",
              "    </tr>\n",
              "    <tr>\n",
              "      <th>6915660</th>\n",
              "      <td>912.44390</td>\n",
              "      <td>8</td>\n",
              "      <td>twitch.tv/singsind</td>\n",
              "      <td>18</td>\n",
              "      <td>0.0</td>\n",
              "      <td>0.0</td>\n",
              "    </tr>\n",
              "    <tr>\n",
              "      <th>6920497</th>\n",
              "      <td>1325.97618</td>\n",
              "      <td>6</td>\n",
              "      <td>https://www.youtube.com/watch?v=0U5CGqD7pmQ</td>\n",
              "      <td>43</td>\n",
              "      <td>0.0</td>\n",
              "      <td>0.0</td>\n",
              "    </tr>\n",
              "  </tbody>\n",
              "</table>\n",
              "<p>5480 rows × 6 columns</p>\n",
              "</div>"
            ],
            "text/plain": [
              "               time  slot  ... polarity  subjectivity\n",
              "1        -131.14018     0  ...      0.0           0.0\n",
              "2        -121.60481     0  ...      0.0           0.0\n",
              "3         700.72893     0  ...      0.0           0.0\n",
              "4         702.99503     0  ...      0.0           0.0\n",
              "5         703.59488     0  ...      0.0           0.0\n",
              "...             ...   ...  ...      ...           ...\n",
              "6909221   584.09074     2  ...      0.0           0.0\n",
              "6911305   934.63850     6  ...      0.0           0.0\n",
              "6911306  1113.06160     6  ...      0.0           0.0\n",
              "6915660   912.44390     8  ...      0.0           0.0\n",
              "6920497  1325.97618     6  ...      0.0           0.0\n",
              "\n",
              "[5480 rows x 6 columns]"
            ]
          },
          "metadata": {
            "tags": []
          },
          "execution_count": 35
        }
      ]
    },
    {
      "cell_type": "code",
      "metadata": {
        "colab": {
          "base_uri": "https://localhost:8080/",
          "height": 447
        },
        "id": "hxzhX22Wh4km",
        "outputId": "0639fff3-87b8-47fa-9766-7c3c009272d0"
      },
      "source": [
        "#removed the links and urls. Converted to lowercase\n",
        "data = data[data['text'].str.contains(link_reg)!= True] \n",
        "data['text'] = data['text'].str.lower()\n",
        "data"
      ],
      "execution_count": 36,
      "outputs": [
        {
          "output_type": "stream",
          "text": [
            "/usr/local/lib/python3.6/dist-packages/pandas/core/strings.py:2001: UserWarning: This pattern has match groups. To actually get the groups, use str.extract.\n",
            "  return func(self, *args, **kwargs)\n"
          ],
          "name": "stderr"
        },
        {
          "output_type": "execute_result",
          "data": {
            "text/html": [
              "<div>\n",
              "<style scoped>\n",
              "    .dataframe tbody tr th:only-of-type {\n",
              "        vertical-align: middle;\n",
              "    }\n",
              "\n",
              "    .dataframe tbody tr th {\n",
              "        vertical-align: top;\n",
              "    }\n",
              "\n",
              "    .dataframe thead th {\n",
              "        text-align: right;\n",
              "    }\n",
              "</style>\n",
              "<table border=\"1\" class=\"dataframe\">\n",
              "  <thead>\n",
              "    <tr style=\"text-align: right;\">\n",
              "      <th></th>\n",
              "      <th>time</th>\n",
              "      <th>slot</th>\n",
              "      <th>text</th>\n",
              "      <th>text length</th>\n",
              "      <th>polarity</th>\n",
              "      <th>subjectivity</th>\n",
              "    </tr>\n",
              "  </thead>\n",
              "  <tbody>\n",
              "    <tr>\n",
              "      <th>0</th>\n",
              "      <td>1808.40822</td>\n",
              "      <td>9</td>\n",
              "      <td>100%</td>\n",
              "      <td>4</td>\n",
              "      <td>0.0</td>\n",
              "      <td>0.0</td>\n",
              "    </tr>\n",
              "    <tr>\n",
              "      <th>7</th>\n",
              "      <td>1238.43090</td>\n",
              "      <td>6</td>\n",
              "      <td>carry</td>\n",
              "      <td>5</td>\n",
              "      <td>0.0</td>\n",
              "      <td>0.0</td>\n",
              "    </tr>\n",
              "    <tr>\n",
              "      <th>8</th>\n",
              "      <td>1248.42850</td>\n",
              "      <td>0</td>\n",
              "      <td>yes dog</td>\n",
              "      <td>7</td>\n",
              "      <td>0.0</td>\n",
              "      <td>0.0</td>\n",
              "    </tr>\n",
              "    <tr>\n",
              "      <th>9</th>\n",
              "      <td>1559.05260</td>\n",
              "      <td>0</td>\n",
              "      <td>yeah</td>\n",
              "      <td>5</td>\n",
              "      <td>0.0</td>\n",
              "      <td>0.0</td>\n",
              "    </tr>\n",
              "    <tr>\n",
              "      <th>10</th>\n",
              "      <td>1563.18490</td>\n",
              "      <td>0</td>\n",
              "      <td>fast and furious</td>\n",
              "      <td>16</td>\n",
              "      <td>0.2</td>\n",
              "      <td>0.6</td>\n",
              "    </tr>\n",
              "    <tr>\n",
              "      <th>...</th>\n",
              "      <td>...</td>\n",
              "      <td>...</td>\n",
              "      <td>...</td>\n",
              "      <td>...</td>\n",
              "      <td>...</td>\n",
              "      <td>...</td>\n",
              "    </tr>\n",
              "    <tr>\n",
              "      <th>6921683</th>\n",
              "      <td>917.21927</td>\n",
              "      <td>8</td>\n",
              "      <td>damn you!!!!</td>\n",
              "      <td>12</td>\n",
              "      <td>0.0</td>\n",
              "      <td>0.0</td>\n",
              "    </tr>\n",
              "    <tr>\n",
              "      <th>6921684</th>\n",
              "      <td>1709.49237</td>\n",
              "      <td>6</td>\n",
              "      <td>baited</td>\n",
              "      <td>6</td>\n",
              "      <td>0.0</td>\n",
              "      <td>0.0</td>\n",
              "    </tr>\n",
              "    <tr>\n",
              "      <th>6921685</th>\n",
              "      <td>1765.54537</td>\n",
              "      <td>7</td>\n",
              "      <td>lmao</td>\n",
              "      <td>4</td>\n",
              "      <td>0.6</td>\n",
              "      <td>1.0</td>\n",
              "    </tr>\n",
              "    <tr>\n",
              "      <th>6921686</th>\n",
              "      <td>974.04976</td>\n",
              "      <td>0</td>\n",
              "      <td>sec please</td>\n",
              "      <td>10</td>\n",
              "      <td>-0.1</td>\n",
              "      <td>0.6</td>\n",
              "    </tr>\n",
              "    <tr>\n",
              "      <th>6921687</th>\n",
              "      <td>2674.38856</td>\n",
              "      <td>3</td>\n",
              "      <td>ggwp lol</td>\n",
              "      <td>8</td>\n",
              "      <td>0.8</td>\n",
              "      <td>0.7</td>\n",
              "    </tr>\n",
              "  </tbody>\n",
              "</table>\n",
              "<p>6916208 rows × 6 columns</p>\n",
              "</div>"
            ],
            "text/plain": [
              "               time  slot  ... polarity  subjectivity\n",
              "0        1808.40822     9  ...      0.0           0.0\n",
              "7        1238.43090     6  ...      0.0           0.0\n",
              "8        1248.42850     0  ...      0.0           0.0\n",
              "9        1559.05260     0  ...      0.0           0.0\n",
              "10       1563.18490     0  ...      0.2           0.6\n",
              "...             ...   ...  ...      ...           ...\n",
              "6921683   917.21927     8  ...      0.0           0.0\n",
              "6921684  1709.49237     6  ...      0.0           0.0\n",
              "6921685  1765.54537     7  ...      0.6           1.0\n",
              "6921686   974.04976     0  ...     -0.1           0.6\n",
              "6921687  2674.38856     3  ...      0.8           0.7\n",
              "\n",
              "[6916208 rows x 6 columns]"
            ]
          },
          "metadata": {
            "tags": []
          },
          "execution_count": 36
        }
      ]
    },
    {
      "cell_type": "code",
      "metadata": {
        "colab": {
          "base_uri": "https://localhost:8080/",
          "height": 200
        },
        "id": "BaEcaT3Ljvgi",
        "outputId": "075146df-7059-4697-af4a-1f59413ccb16"
      },
      "source": [
        "eng_with_features_link = data.copy(deep = True)\n",
        "eng_with_features_link.head()"
      ],
      "execution_count": 41,
      "outputs": [
        {
          "output_type": "execute_result",
          "data": {
            "text/html": [
              "<div>\n",
              "<style scoped>\n",
              "    .dataframe tbody tr th:only-of-type {\n",
              "        vertical-align: middle;\n",
              "    }\n",
              "\n",
              "    .dataframe tbody tr th {\n",
              "        vertical-align: top;\n",
              "    }\n",
              "\n",
              "    .dataframe thead th {\n",
              "        text-align: right;\n",
              "    }\n",
              "</style>\n",
              "<table border=\"1\" class=\"dataframe\">\n",
              "  <thead>\n",
              "    <tr style=\"text-align: right;\">\n",
              "      <th></th>\n",
              "      <th>time</th>\n",
              "      <th>slot</th>\n",
              "      <th>text</th>\n",
              "      <th>text length</th>\n",
              "      <th>polarity</th>\n",
              "      <th>subjectivity</th>\n",
              "    </tr>\n",
              "  </thead>\n",
              "  <tbody>\n",
              "    <tr>\n",
              "      <th>0</th>\n",
              "      <td>1808.40822</td>\n",
              "      <td>9</td>\n",
              "      <td>100%</td>\n",
              "      <td>4</td>\n",
              "      <td>0.0</td>\n",
              "      <td>0.0</td>\n",
              "    </tr>\n",
              "    <tr>\n",
              "      <th>7</th>\n",
              "      <td>1238.43090</td>\n",
              "      <td>6</td>\n",
              "      <td>carry</td>\n",
              "      <td>5</td>\n",
              "      <td>0.0</td>\n",
              "      <td>0.0</td>\n",
              "    </tr>\n",
              "    <tr>\n",
              "      <th>8</th>\n",
              "      <td>1248.42850</td>\n",
              "      <td>0</td>\n",
              "      <td>yes dog</td>\n",
              "      <td>7</td>\n",
              "      <td>0.0</td>\n",
              "      <td>0.0</td>\n",
              "    </tr>\n",
              "    <tr>\n",
              "      <th>9</th>\n",
              "      <td>1559.05260</td>\n",
              "      <td>0</td>\n",
              "      <td>yeah</td>\n",
              "      <td>5</td>\n",
              "      <td>0.0</td>\n",
              "      <td>0.0</td>\n",
              "    </tr>\n",
              "    <tr>\n",
              "      <th>10</th>\n",
              "      <td>1563.18490</td>\n",
              "      <td>0</td>\n",
              "      <td>fast and furious</td>\n",
              "      <td>16</td>\n",
              "      <td>0.2</td>\n",
              "      <td>0.6</td>\n",
              "    </tr>\n",
              "  </tbody>\n",
              "</table>\n",
              "</div>"
            ],
            "text/plain": [
              "          time  slot              text  text length  polarity  subjectivity\n",
              "0   1808.40822     9              100%            4       0.0           0.0\n",
              "7   1238.43090     6             carry            5       0.0           0.0\n",
              "8   1248.42850     0           yes dog            7       0.0           0.0\n",
              "9   1559.05260     0             yeah             5       0.0           0.0\n",
              "10  1563.18490     0  fast and furious           16       0.2           0.6"
            ]
          },
          "metadata": {
            "tags": []
          },
          "execution_count": 41
        }
      ]
    }
  ]
}